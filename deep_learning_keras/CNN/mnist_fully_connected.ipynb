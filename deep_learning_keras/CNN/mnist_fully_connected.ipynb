{
 "cells": [
  {
   "cell_type": "code",
   "execution_count": 2,
   "metadata": {
    "collapsed": true
   },
   "outputs": [],
   "source": [
    "import pandas as pd\n",
    "import numpy as np\n",
    "import matplotlib.pyplot as plt\n",
    "%matplotlib inline"
   ]
  },
  {
   "cell_type": "code",
   "execution_count": 3,
   "metadata": {
    "collapsed": true
   },
   "outputs": [],
   "source": [
    "from keras.datasets import mnist"
   ]
  },
  {
   "cell_type": "code",
   "execution_count": 10,
   "metadata": {},
   "outputs": [
    {
     "name": "stdout",
     "output_type": "stream",
     "text": [
      "Downloading data from https://s3.amazonaws.com/img-datasets/mnist.npz\n",
      "11493376/11490434 [==============================] - 3s 0us/step\n"
     ]
    }
   ],
   "source": [
    "'''data loading'''\n",
    "\n",
    "(X_train, y_train), (X_test, y_test) = mnist.load_data()"
   ]
  },
  {
   "cell_type": "code",
   "execution_count": 13,
   "metadata": {
    "collapsed": true
   },
   "outputs": [],
   "source": [
    "'''data reshaping and normalization'''\n",
    "\n",
    "X_train = X_train.reshape(-1,28*28)\n",
    "X_test = X_test.reshape(-1,28*28)\n",
    "\n",
    "X_train=X_train.astype('float32')\n",
    "X_test=X_test.astype('float32')\n",
    "X_train/=255.0\n",
    "X_test/=255.0"
   ]
  },
  {
   "cell_type": "code",
   "execution_count": 14,
   "metadata": {
    "collapsed": true
   },
   "outputs": [],
   "source": [
    "from keras.utils.np_utils import to_categorical"
   ]
  },
  {
   "cell_type": "code",
   "execution_count": 15,
   "metadata": {
    "collapsed": true
   },
   "outputs": [],
   "source": [
    "y_train = to_categorical(y_train)\n",
    "y_test = to_categorical(y_test)"
   ]
  },
  {
   "cell_type": "markdown",
   "metadata": {},
   "source": [
    "## FULLY CONNECTED"
   ]
  },
  {
   "cell_type": "code",
   "execution_count": 20,
   "metadata": {
    "collapsed": true
   },
   "outputs": [],
   "source": [
    "from keras import Sequential\n",
    "from keras.layers import Dense\n",
    "import keras.backend as k"
   ]
  },
  {
   "cell_type": "code",
   "execution_count": 23,
   "metadata": {
    "collapsed": true
   },
   "outputs": [],
   "source": [
    "'''fully connected CNN'''\n",
    "\n",
    "k.clear_session()\n",
    "\n",
    "model =  Sequential()\n",
    "model.add(Dense(512, input_dim=28*28, activation='relu'))\n",
    "model.add(Dense(256, activation='relu'))\n",
    "model.add(Dense(128, activation='relu'))\n",
    "model.add(Dense(10, activation='softmax'))\n",
    "\n",
    "model.compile(loss='categorical_crossentropy', optimizer='rmsprop', metrics=['accuracy'])"
   ]
  },
  {
   "cell_type": "code",
   "execution_count": 24,
   "metadata": {},
   "outputs": [
    {
     "name": "stdout",
     "output_type": "stream",
     "text": [
      "Train on 54000 samples, validate on 6000 samples\n",
      "Epoch 1/10\n",
      "54000/54000 [==============================] - 10s 189us/step - loss: 0.2521 - acc: 0.9224 - val_loss: 0.0958 - val_acc: 0.9703\n",
      "Epoch 2/10\n",
      "54000/54000 [==============================] - 9s 165us/step - loss: 0.0942 - acc: 0.9706 - val_loss: 0.0834 - val_acc: 0.9762\n",
      "Epoch 3/10\n",
      "54000/54000 [==============================] - 9s 159us/step - loss: 0.0627 - acc: 0.9806 - val_loss: 0.0892 - val_acc: 0.9772\n",
      "Epoch 4/10\n",
      "54000/54000 [==============================] - 7s 137us/step - loss: 0.0450 - acc: 0.9866 - val_loss: 0.0764 - val_acc: 0.9815\n",
      "Epoch 5/10\n",
      "54000/54000 [==============================] - 8s 157us/step - loss: 0.0346 - acc: 0.9893 - val_loss: 0.0745 - val_acc: 0.9815\n",
      "Epoch 6/10\n",
      "54000/54000 [==============================] - 8s 152us/step - loss: 0.0279 - acc: 0.9912 - val_loss: 0.0925 - val_acc: 0.9795\n",
      "Epoch 7/10\n",
      "54000/54000 [==============================] - 8s 152us/step - loss: 0.0220 - acc: 0.9928 - val_loss: 0.0939 - val_acc: 0.9803\n",
      "Epoch 8/10\n",
      "54000/54000 [==============================] - 8s 151us/step - loss: 0.0179 - acc: 0.9946 - val_loss: 0.0841 - val_acc: 0.9828\n",
      "Epoch 9/10\n",
      "54000/54000 [==============================] - 10s 188us/step - loss: 0.0186 - acc: 0.9945 - val_loss: 0.1042 - val_acc: 0.9817\n",
      "Epoch 10/10\n",
      "54000/54000 [==============================] - 10s 179us/step - loss: 0.0160 - acc: 0.9955 - val_loss: 0.1145 - val_acc: 0.9807\n"
     ]
    }
   ],
   "source": [
    "h = model.fit(X_train, y_train, batch_size=128, epochs=10, validation_split=0.1)"
   ]
  },
  {
   "cell_type": "code",
   "execution_count": 25,
   "metadata": {},
   "outputs": [
    {
     "data": {
      "text/plain": [
       "[<matplotlib.lines.Line2D at 0x7fdbd3c01d30>]"
      ]
     },
     "execution_count": 25,
     "metadata": {},
     "output_type": "execute_result"
    },
    {
     "data": {
      "image/png": "[encoded data removed]",
      "text/plain": [
       "<matplotlib.figure.Figure at 0x7fdbd3c01f60>"
      ]
     },
     "metadata": {},
     "output_type": "display_data"
    }
   ],
   "source": [
    "'''accuracy curves'''\n",
    "\n",
    "plt.plot(h.history['acc'])\n",
    "plt.plot(h.history['val_acc'])"
   ]
  },
  {
   "cell_type": "code",
   "execution_count": 26,
   "metadata": {},
   "outputs": [
    {
     "name": "stdout",
     "output_type": "stream",
     "text": [
      "10000/10000 [==============================] - 1s 86us/step\n"
     ]
    },
    {
     "data": {
      "text/plain": [
       "[0.12057263498648772, 0.9798]"
      ]
     },
     "execution_count": 26,
     "metadata": {},
     "output_type": "execute_result"
    }
   ],
   "source": [
    "test_acc = model.evaluate(X_test, y_test)\n",
    "test_acc"
   ]
  },
  {
   "cell_type": "code",
   "execution_count": null,
   "metadata": {
    "collapsed": true
   },
   "outputs": [],
   "source": [
    "# when we face an error that the train error is high means overfitting, so might need to get the different nn archtectiure"
   ]
  }
 ],
 "metadata": {
  "kernelspec": {
   "display_name": "Python 3",
   "language": "python",
   "name": "python3"
  },
  "language_info": {
   "codemirror_mode": {
    "name": "ipython",
    "version": 3
   },
   "file_extension": ".py",
   "mimetype": "text/x-python",
   "name": "python",
   "nbconvert_exporter": "python",
   "pygments_lexer": "ipython3",
   "version": "3.5.2"
  }
 },
 "nbformat": 4,
 "nbformat_minor": 2
}
