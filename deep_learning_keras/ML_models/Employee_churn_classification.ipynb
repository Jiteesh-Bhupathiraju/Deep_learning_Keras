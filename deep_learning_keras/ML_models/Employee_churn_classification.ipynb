{
 "cells": [
  {
   "cell_type": "code",
   "execution_count": 1,
   "metadata": {
    "collapsed": true
   },
   "outputs": [],
   "source": [
    "import pandas as pd"
   ]
  },
  {
   "cell_type": "code",
   "execution_count": 3,
   "metadata": {},
   "outputs": [],
   "source": [
    "df = pd.read_csv('../data/user_visit_duration.csv')"
   ]
  },
  {
   "cell_type": "code",
   "execution_count": 4,
   "metadata": {},
   "outputs": [
    {
     "name": "stderr",
     "output_type": "stream",
     "text": [
      "Using TensorFlow backend.\n"
     ]
    }
   ],
   "source": [
    "from keras import Sequential\n",
    "from keras.layers import Dense\n",
    "from keras.optimizers import Adam, SGD"
   ]
  },
  {
   "cell_type": "code",
   "execution_count": 5,
   "metadata": {
    "collapsed": true
   },
   "outputs": [],
   "source": [
    "'''Benchmark Model'''\n",
    "\n",
    "model = Sequential()\n",
    "model.add(Dense(1,input_shape=(1,), activation='sigmoid')) # only difference is the activation finction\n",
    "\n",
    "model.compile(SGD(lr=0.5), 'binary_crossentropy', metrics=['accuracy'])"
   ]
  },
  {
   "cell_type": "code",
   "execution_count": 6,
   "metadata": {},
   "outputs": [
    {
     "data": {
      "text/plain": [
       "<keras.callbacks.History at 0x7fbc25fa12b0>"
      ]
     },
     "execution_count": 6,
     "metadata": {},
     "output_type": "execute_result"
    }
   ],
   "source": [
    "X =df[['Time (min)']].values\n",
    "y = df[['Buy']].values\n",
    "\n",
    "model.fit(X,y,epochs=25, verbose=0)"
   ]
  },
  {
   "cell_type": "code",
   "execution_count": 7,
   "metadata": {
    "collapsed": true
   },
   "outputs": [],
   "source": [
    "y_pred = model.predict(X)\n",
    "y_class_pred = y_pred>0.5"
   ]
  },
  {
   "cell_type": "code",
   "execution_count": 8,
   "metadata": {
    "collapsed": true
   },
   "outputs": [],
   "source": [
    "from sklearn.metrics import accuracy_score"
   ]
  },
  {
   "cell_type": "code",
   "execution_count": 9,
   "metadata": {},
   "outputs": [
    {
     "data": {
      "text/plain": [
       "0.83"
      ]
     },
     "execution_count": 9,
     "metadata": {},
     "output_type": "execute_result"
    }
   ],
   "source": [
    "accuracy_score(y,y_class_pred)"
   ]
  },
  {
   "cell_type": "markdown",
   "metadata": {},
   "source": [
    "# Cross evaluation"
   ]
  },
  {
   "cell_type": "code",
   "execution_count": 12,
   "metadata": {
    "collapsed": true
   },
   "outputs": [],
   "source": [
    "from keras.wrappers.scikit_learn import  KerasClassifier"
   ]
  },
  {
   "cell_type": "code",
   "execution_count": 13,
   "metadata": {
    "collapsed": true
   },
   "outputs": [],
   "source": [
    "'''build function for scikit wrapper'''\n",
    "\n",
    "def build_logistic():\n",
    "    model = Sequential()\n",
    "    model.add(Dense(1,input_shape=(1,), activation='sigmoid')) # only difference is the activation finction\n",
    "    model.compile(SGD(lr=0.5), 'binary_crossentropy', metrics=['accuracy'])\n",
    "    \n",
    "    return model"
   ]
  },
  {
   "cell_type": "code",
   "execution_count": 16,
   "metadata": {
    "collapsed": true
   },
   "outputs": [],
   "source": [
    "model= KerasClassifier(build_fn=build_logistic, epochs=25) # behaves like a sklearn model, to validate with the sklearn\n",
    "                                                           # libraries"
   ]
  },
  {
   "cell_type": "code",
   "execution_count": 38,
   "metadata": {
    "collapsed": true
   },
   "outputs": [],
   "source": [
    "from sklearn.model_selection import cross_val_score, KFold"
   ]
  },
  {
   "cell_type": "code",
   "execution_count": 17,
   "metadata": {
    "collapsed": true
   },
   "outputs": [],
   "source": [
    "'''k folded training evaluation of the model'''\n",
    "\n",
    "cv = KFold(3,shuffle=True)"
   ]
  },
  {
   "cell_type": "code",
   "execution_count": 18,
   "metadata": {},
   "outputs": [
    {
     "name": "stdout",
     "output_type": "stream",
     "text": [
      "Epoch 1/25\n",
      "66/66 [==============================] - 0s 3ms/step - loss: 0.8992 - acc: 0.6061\n",
      "Epoch 2/25\n",
      "66/66 [==============================] - 0s 232us/step - loss: 0.5478 - acc: 0.6667\n",
      "Epoch 3/25\n",
      "66/66 [==============================] - 0s 262us/step - loss: 0.4969 - acc: 0.8182\n",
      "Epoch 4/25\n",
      "66/66 [==============================] - 0s 287us/step - loss: 0.6055 - acc: 0.6364\n",
      "Epoch 5/25\n",
      "66/66 [==============================] - 0s 166us/step - loss: 0.5553 - acc: 0.7121\n",
      "Epoch 6/25\n",
      "66/66 [==============================] - 0s 273us/step - loss: 0.5016 - acc: 0.8030\n",
      "Epoch 7/25\n",
      "66/66 [==============================] - 0s 227us/step - loss: 0.4491 - acc: 0.8333\n",
      "Epoch 8/25\n",
      "66/66 [==============================] - 0s 210us/step - loss: 0.4450 - acc: 0.8485\n",
      "Epoch 9/25\n",
      "66/66 [==============================] - 0s 139us/step - loss: 0.4471 - acc: 0.8182\n",
      "Epoch 10/25\n",
      "66/66 [==============================] - 0s 211us/step - loss: 0.4338 - acc: 0.8333\n",
      "Epoch 11/25\n",
      "66/66 [==============================] - 0s 88us/step - loss: 0.4525 - acc: 0.7879\n",
      "Epoch 12/25\n",
      "66/66 [==============================] - 0s 210us/step - loss: 0.4517 - acc: 0.7727\n",
      "Epoch 13/25\n",
      "66/66 [==============================] - 0s 116us/step - loss: 0.4333 - acc: 0.8182\n",
      "Epoch 14/25\n",
      "66/66 [==============================] - 0s 301us/step - loss: 0.4091 - acc: 0.8636\n",
      "Epoch 15/25\n",
      "66/66 [==============================] - 0s 237us/step - loss: 0.4302 - acc: 0.8333\n",
      "Epoch 16/25\n",
      "66/66 [==============================] - 0s 303us/step - loss: 0.4211 - acc: 0.8333\n",
      "Epoch 17/25\n",
      "66/66 [==============================] - 0s 136us/step - loss: 0.4094 - acc: 0.8485\n",
      "Epoch 18/25\n",
      "66/66 [==============================] - 0s 190us/step - loss: 0.4359 - acc: 0.7727\n",
      "Epoch 19/25\n",
      "66/66 [==============================] - 0s 116us/step - loss: 0.6499 - acc: 0.6061\n",
      "Epoch 20/25\n",
      "66/66 [==============================] - 0s 91us/step - loss: 0.4021 - acc: 0.8333\n",
      "Epoch 21/25\n",
      "66/66 [==============================] - 0s 231us/step - loss: 0.3887 - acc: 0.8485\n",
      "Epoch 22/25\n",
      "66/66 [==============================] - 0s 154us/step - loss: 0.4136 - acc: 0.8182\n",
      "Epoch 23/25\n",
      "66/66 [==============================] - 0s 109us/step - loss: 0.3981 - acc: 0.8485\n",
      "Epoch 24/25\n",
      "66/66 [==============================] - 0s 211us/step - loss: 0.3792 - acc: 0.8485\n",
      "Epoch 25/25\n",
      "66/66 [==============================] - 0s 120us/step - loss: 0.3878 - acc: 0.8485\n",
      "34/34 [==============================] - 0s 2ms/step\n",
      "Epoch 1/25\n",
      "67/67 [==============================] - 0s 4ms/step - loss: 1.0108 - acc: 0.5224\n",
      "Epoch 2/25\n",
      "67/67 [==============================] - 0s 131us/step - loss: 0.5848 - acc: 0.7015\n",
      "Epoch 3/25\n",
      "67/67 [==============================] - 0s 257us/step - loss: 0.5545 - acc: 0.7463\n",
      "Epoch 4/25\n",
      "67/67 [==============================] - 0s 231us/step - loss: 0.5759 - acc: 0.7164\n",
      "Epoch 5/25\n",
      "67/67 [==============================] - 0s 305us/step - loss: 0.5306 - acc: 0.7761\n",
      "Epoch 6/25\n",
      "67/67 [==============================] - 0s 120us/step - loss: 0.5215 - acc: 0.7612\n",
      "Epoch 7/25\n",
      "67/67 [==============================] - 0s 386us/step - loss: 0.5181 - acc: 0.7463\n",
      "Epoch 8/25\n",
      "67/67 [==============================] - 0s 179us/step - loss: 0.5578 - acc: 0.6716\n",
      "Epoch 9/25\n",
      "67/67 [==============================] - 0s 237us/step - loss: 0.5124 - acc: 0.7463\n",
      "Epoch 10/25\n",
      "67/67 [==============================] - 0s 226us/step - loss: 0.5128 - acc: 0.7612\n",
      "Epoch 11/25\n",
      "67/67 [==============================] - 0s 199us/step - loss: 0.5000 - acc: 0.7463\n",
      "Epoch 12/25\n",
      "67/67 [==============================] - 0s 241us/step - loss: 0.5069 - acc: 0.7612\n",
      "Epoch 13/25\n",
      "67/67 [==============================] - 0s 256us/step - loss: 0.4894 - acc: 0.8060\n",
      "Epoch 14/25\n",
      "67/67 [==============================] - 0s 139us/step - loss: 0.4846 - acc: 0.8060\n",
      "Epoch 15/25\n",
      "67/67 [==============================] - 0s 201us/step - loss: 0.4799 - acc: 0.7910\n",
      "Epoch 16/25\n",
      "67/67 [==============================] - 0s 140us/step - loss: 0.4747 - acc: 0.7910\n",
      "Epoch 17/25\n",
      "67/67 [==============================] - 0s 194us/step - loss: 0.4795 - acc: 0.7910\n",
      "Epoch 18/25\n",
      "67/67 [==============================] - 0s 101us/step - loss: 0.4706 - acc: 0.7761\n",
      "Epoch 19/25\n",
      "67/67 [==============================] - ETA: 0s - loss: 0.4826 - acc: 0.843 - 0s 176us/step - loss: 0.5024 - acc: 0.7463\n",
      "Epoch 20/25\n",
      "67/67 [==============================] - 0s 162us/step - loss: 0.4786 - acc: 0.7761\n",
      "Epoch 21/25\n",
      "67/67 [==============================] - 0s 106us/step - loss: 0.4716 - acc: 0.7612\n",
      "Epoch 22/25\n",
      "67/67 [==============================] - 0s 147us/step - loss: 0.4925 - acc: 0.7463\n",
      "Epoch 23/25\n",
      "67/67 [==============================] - 0s 184us/step - loss: 0.4788 - acc: 0.7910\n",
      "Epoch 24/25\n",
      "67/67 [==============================] - 0s 202us/step - loss: 0.4909 - acc: 0.7313\n",
      "Epoch 25/25\n",
      "67/67 [==============================] - 0s 236us/step - loss: 0.4647 - acc: 0.7761\n",
      "33/33 [==============================] - 0s 2ms/step\n",
      "Epoch 1/25\n",
      "67/67 [==============================] - 0s 4ms/step - loss: 0.6114 - acc: 0.5821\n",
      "Epoch 2/25\n",
      "67/67 [==============================] - 0s 83us/step - loss: 0.5655 - acc: 0.7164\n",
      "Epoch 3/25\n",
      "67/67 [==============================] - 0s 153us/step - loss: 0.5371 - acc: 0.6418\n",
      "Epoch 4/25\n",
      "67/67 [==============================] - 0s 260us/step - loss: 0.5417 - acc: 0.6119\n",
      "Epoch 5/25\n",
      "67/67 [==============================] - 0s 168us/step - loss: 0.4959 - acc: 0.7761\n",
      "Epoch 6/25\n",
      "67/67 [==============================] - 0s 110us/step - loss: 0.4810 - acc: 0.7463\n",
      "Epoch 7/25\n",
      "67/67 [==============================] - 0s 196us/step - loss: 0.4657 - acc: 0.7910\n",
      "Epoch 8/25\n",
      "67/67 [==============================] - 0s 198us/step - loss: 0.4728 - acc: 0.7313\n",
      "Epoch 9/25\n",
      "67/67 [==============================] - 0s 172us/step - loss: 0.4841 - acc: 0.8657\n",
      "Epoch 10/25\n",
      "67/67 [==============================] - 0s 220us/step - loss: 0.4524 - acc: 0.7612\n",
      "Epoch 11/25\n",
      "67/67 [==============================] - 0s 238us/step - loss: 0.4214 - acc: 0.7910\n",
      "Epoch 12/25\n",
      "67/67 [==============================] - 0s 232us/step - loss: 0.4153 - acc: 0.8507\n",
      "Epoch 13/25\n",
      "67/67 [==============================] - 0s 128us/step - loss: 0.4058 - acc: 0.7910\n",
      "Epoch 14/25\n",
      "67/67 [==============================] - 0s 170us/step - loss: 0.4086 - acc: 0.8657\n",
      "Epoch 15/25\n",
      "67/67 [==============================] - 0s 298us/step - loss: 0.3972 - acc: 0.8657\n",
      "Epoch 16/25\n",
      "67/67 [==============================] - 0s 118us/step - loss: 0.4095 - acc: 0.8060\n",
      "Epoch 17/25\n",
      "67/67 [==============================] - 0s 146us/step - loss: 0.4118 - acc: 0.8806\n",
      "Epoch 18/25\n",
      "67/67 [==============================] - 0s 215us/step - loss: 0.3898 - acc: 0.8358\n",
      "Epoch 19/25\n",
      "67/67 [==============================] - 0s 118us/step - loss: 0.3823 - acc: 0.8507\n",
      "Epoch 20/25\n",
      "67/67 [==============================] - 0s 197us/step - loss: 0.3818 - acc: 0.8657\n",
      "Epoch 21/25\n",
      "67/67 [==============================] - 0s 238us/step - loss: 0.3809 - acc: 0.8507\n",
      "Epoch 22/25\n",
      "67/67 [==============================] - 0s 139us/step - loss: 0.3754 - acc: 0.8507\n",
      "Epoch 23/25\n",
      "67/67 [==============================] - 0s 182us/step - loss: 0.3797 - acc: 0.7761\n",
      "Epoch 24/25\n",
      "67/67 [==============================] - 0s 151us/step - loss: 0.3813 - acc: 0.7910\n",
      "Epoch 25/25\n",
      "67/67 [==============================] - 0s 206us/step - loss: 0.3724 - acc: 0.8209\n",
      "33/33 [==============================] - 0s 3ms/step\n"
     ]
    }
   ],
   "source": [
    "scores = cross_val_score(model,X,y,cv=cv)"
   ]
  },
  {
   "cell_type": "code",
   "execution_count": 19,
   "metadata": {},
   "outputs": [
    {
     "data": {
      "text/plain": [
       "array([0.76470588, 0.81818182, 0.78787879])"
      ]
     },
     "execution_count": 19,
     "metadata": {},
     "output_type": "execute_result"
    }
   ],
   "source": [
    "scores"
   ]
  },
  {
   "cell_type": "markdown",
   "metadata": {},
   "source": [
    "# confusion matrix"
   ]
  },
  {
   "cell_type": "code",
   "execution_count": 27,
   "metadata": {
    "collapsed": true
   },
   "outputs": [],
   "source": [
    "from sklearn.metrics import confusion_matrix, f1_score, classification_report"
   ]
  },
  {
   "cell_type": "code",
   "execution_count": 24,
   "metadata": {},
   "outputs": [
    {
     "data": {
      "text/plain": [
       "array([[40, 10],\n",
       "       [ 7, 43]])"
      ]
     },
     "execution_count": 24,
     "metadata": {},
     "output_type": "execute_result"
    }
   ],
   "source": [
    "confusion_matrix(y,y_class_pred)"
   ]
  },
  {
   "cell_type": "code",
   "execution_count": 26,
   "metadata": {},
   "outputs": [
    {
     "data": {
      "text/plain": [
       "0.8349514563106797"
      ]
     },
     "execution_count": 26,
     "metadata": {},
     "output_type": "execute_result"
    }
   ],
   "source": [
    "f1_score(y, y_class_pred)"
   ]
  },
  {
   "cell_type": "code",
   "execution_count": 29,
   "metadata": {},
   "outputs": [
    {
     "name": "stdout",
     "output_type": "stream",
     "text": [
      "             precision    recall  f1-score   support\n",
      "\n",
      "          0       0.85      0.80      0.82        50\n",
      "          1       0.81      0.86      0.83        50\n",
      "\n",
      "avg / total       0.83      0.83      0.83       100\n",
      "\n"
     ]
    }
   ],
   "source": [
    "print(classification_report(y,y_class_pred))"
   ]
  },
  {
   "cell_type": "markdown",
   "metadata": {
    "collapsed": true
   },
   "source": [
    "# Employee churn"
   ]
  },
  {
   "cell_type": "code",
   "execution_count": 12,
   "metadata": {
    "collapsed": true
   },
   "outputs": [],
   "source": [
    "df = pd.read_csv('../data/HR_comma_sep.csv')"
   ]
  },
  {
   "cell_type": "code",
   "execution_count": 13,
   "metadata": {},
   "outputs": [
    {
     "data": {
      "text/html": [
       "<div>\n",
       "<style scoped>\n",
       "    .dataframe tbody tr th:only-of-type {\n",
       "        vertical-align: middle;\n",
       "    }\n",
       "\n",
       "    .dataframe tbody tr th {\n",
       "        vertical-align: top;\n",
       "    }\n",
       "\n",
       "    .dataframe thead th {\n",
       "        text-align: right;\n",
       "    }\n",
       "</style>\n",
       "<table border=\"1\" class=\"dataframe\">\n",
       "  <thead>\n",
       "    <tr style=\"text-align: right;\">\n",
       "      <th></th>\n",
       "      <th>satisfaction_level</th>\n",
       "      <th>last_evaluation</th>\n",
       "      <th>number_project</th>\n",
       "      <th>average_montly_hours</th>\n",
       "      <th>time_spend_company</th>\n",
       "      <th>Work_accident</th>\n",
       "      <th>left</th>\n",
       "      <th>promotion_last_5years</th>\n",
       "      <th>sales</th>\n",
       "      <th>salary</th>\n",
       "    </tr>\n",
       "  </thead>\n",
       "  <tbody>\n",
       "    <tr>\n",
       "      <th>0</th>\n",
       "      <td>0.38</td>\n",
       "      <td>0.53</td>\n",
       "      <td>2</td>\n",
       "      <td>157</td>\n",
       "      <td>3</td>\n",
       "      <td>0</td>\n",
       "      <td>1</td>\n",
       "      <td>0</td>\n",
       "      <td>sales</td>\n",
       "      <td>low</td>\n",
       "    </tr>\n",
       "    <tr>\n",
       "      <th>1</th>\n",
       "      <td>0.80</td>\n",
       "      <td>0.86</td>\n",
       "      <td>5</td>\n",
       "      <td>262</td>\n",
       "      <td>6</td>\n",
       "      <td>0</td>\n",
       "      <td>1</td>\n",
       "      <td>0</td>\n",
       "      <td>sales</td>\n",
       "      <td>medium</td>\n",
       "    </tr>\n",
       "    <tr>\n",
       "      <th>2</th>\n",
       "      <td>0.11</td>\n",
       "      <td>0.88</td>\n",
       "      <td>7</td>\n",
       "      <td>272</td>\n",
       "      <td>4</td>\n",
       "      <td>0</td>\n",
       "      <td>1</td>\n",
       "      <td>0</td>\n",
       "      <td>sales</td>\n",
       "      <td>medium</td>\n",
       "    </tr>\n",
       "    <tr>\n",
       "      <th>3</th>\n",
       "      <td>0.72</td>\n",
       "      <td>0.87</td>\n",
       "      <td>5</td>\n",
       "      <td>223</td>\n",
       "      <td>5</td>\n",
       "      <td>0</td>\n",
       "      <td>1</td>\n",
       "      <td>0</td>\n",
       "      <td>sales</td>\n",
       "      <td>low</td>\n",
       "    </tr>\n",
       "    <tr>\n",
       "      <th>4</th>\n",
       "      <td>0.37</td>\n",
       "      <td>0.52</td>\n",
       "      <td>2</td>\n",
       "      <td>159</td>\n",
       "      <td>3</td>\n",
       "      <td>0</td>\n",
       "      <td>1</td>\n",
       "      <td>0</td>\n",
       "      <td>sales</td>\n",
       "      <td>low</td>\n",
       "    </tr>\n",
       "  </tbody>\n",
       "</table>\n",
       "</div>"
      ],
      "text/plain": [
       "   satisfaction_level  last_evaluation  number_project  average_montly_hours  \\\n",
       "0                0.38             0.53               2                   157   \n",
       "1                0.80             0.86               5                   262   \n",
       "2                0.11             0.88               7                   272   \n",
       "3                0.72             0.87               5                   223   \n",
       "4                0.37             0.52               2                   159   \n",
       "\n",
       "   time_spend_company  Work_accident  left  promotion_last_5years  sales  \\\n",
       "0                   3              0     1                      0  sales   \n",
       "1                   6              0     1                      0  sales   \n",
       "2                   4              0     1                      0  sales   \n",
       "3                   5              0     1                      0  sales   \n",
       "4                   3              0     1                      0  sales   \n",
       "\n",
       "   salary  \n",
       "0     low  \n",
       "1  medium  \n",
       "2  medium  \n",
       "3     low  \n",
       "4     low  "
      ]
     },
     "execution_count": 13,
     "metadata": {},
     "output_type": "execute_result"
    }
   ],
   "source": [
    "df.head()"
   ]
  },
  {
   "cell_type": "code",
   "execution_count": 14,
   "metadata": {},
   "outputs": [
    {
     "name": "stderr",
     "output_type": "stream",
     "text": [
      "/usr/local/lib/python3.5/dist-packages/pandas/core/computation/check.py:17: UserWarning: The installed version of numexpr 2.4.3 is not supported in pandas and will be not be used\n",
      "The minimum supported version is 2.4.6\n",
      "\n",
      "  ver=ver, min_ver=_MIN_NUMEXPR_VERSION), UserWarning)\n"
     ]
    },
    {
     "data": {
      "text/plain": [
       "0    0.761917\n",
       "1    0.238083\n",
       "Name: left, dtype: float64"
      ]
     },
     "execution_count": 14,
     "metadata": {},
     "output_type": "execute_result"
    }
   ],
   "source": [
    "'''Base line estimation'''\n",
    "\n",
    "df.left.value_counts()/len(df)"
   ]
  },
  {
   "cell_type": "code",
   "execution_count": 15,
   "metadata": {
    "collapsed": true
   },
   "outputs": [],
   "source": [
    "'''normalizing the total number of hours'''\n",
    "\n",
    "df['average_montly_hours'] = df['average_montly_hours']/100.0"
   ]
  },
  {
   "cell_type": "code",
   "execution_count": 16,
   "metadata": {
    "collapsed": true
   },
   "outputs": [],
   "source": [
    "'''categorical conversion'''\n",
    "\n",
    "df_dummies = pd.get_dummies(df[['sales', 'salary']])"
   ]
  },
  {
   "cell_type": "code",
   "execution_count": 17,
   "metadata": {
    "collapsed": true
   },
   "outputs": [],
   "source": [
    "X = pd.concat([df[['satisfaction_level', 'last_evaluation', 'number_project',\n",
    "                   'average_montly_hours', 'time_spend_company', \n",
    "                   'Work_accident','promotion_last_5years']], df_dummies], axis=1).values"
   ]
  },
  {
   "cell_type": "code",
   "execution_count": 18,
   "metadata": {
    "collapsed": true
   },
   "outputs": [],
   "source": [
    "y=df.left.values"
   ]
  },
  {
   "cell_type": "code",
   "execution_count": 19,
   "metadata": {
    "collapsed": true
   },
   "outputs": [],
   "source": [
    "from sklearn.model_selection import train_test_split"
   ]
  },
  {
   "cell_type": "code",
   "execution_count": 20,
   "metadata": {
    "collapsed": true
   },
   "outputs": [],
   "source": [
    "X_train, X_test, y_train, y_test = train_test_split(X,y, test_size=0.2)"
   ]
  },
  {
   "cell_type": "code",
   "execution_count": 21,
   "metadata": {
    "collapsed": true
   },
   "outputs": [],
   "source": [
    "'''neural network model'''\n",
    "\n",
    "model = Sequential()\n",
    "model.add(Dense(8,input_dim=20, activation='sigmoid'))\n",
    "model.add(Dense(4, activation='sigmoid'))\n",
    "model.add(Dense(2, activation='sigmoid'))\n",
    "model.add(Dense(1, activation='sigmoid'))\n",
    "model.compile(Adam(lr=0.8), 'binary_crossentropy', metrics=['accuracy'])"
   ]
  },
  {
   "cell_type": "code",
   "execution_count": 22,
   "metadata": {},
   "outputs": [
    {
     "data": {
      "text/plain": [
       "<keras.callbacks.History at 0x7fbc31393550>"
      ]
     },
     "execution_count": 22,
     "metadata": {},
     "output_type": "execute_result"
    }
   ],
   "source": [
    "model.fit(X_train, y_train, epochs=100, verbose=0)"
   ]
  },
  {
   "cell_type": "code",
   "execution_count": 23,
   "metadata": {
    "collapsed": true
   },
   "outputs": [],
   "source": [
    "# y_test_pred = model.predict(X_test) # for porbabilities\n",
    "y_test_pred = model.predict_classes(X_test)"
   ]
  },
  {
   "cell_type": "code",
   "execution_count": 24,
   "metadata": {
    "collapsed": true
   },
   "outputs": [],
   "source": [
    "from sklearn.metrics import confusion_matrix, classification_report"
   ]
  },
  {
   "cell_type": "code",
   "execution_count": 25,
   "metadata": {},
   "outputs": [
    {
     "data": {
      "text/plain": [
       "array([[2236,    0],\n",
       "       [ 764,    0]])"
      ]
     },
     "execution_count": 25,
     "metadata": {},
     "output_type": "execute_result"
    }
   ],
   "source": [
    "confusion_matrix(y_test, y_test_pred)"
   ]
  },
  {
   "cell_type": "code",
   "execution_count": 26,
   "metadata": {},
   "outputs": [
    {
     "name": "stdout",
     "output_type": "stream",
     "text": [
      "             precision    recall  f1-score   support\n",
      "\n",
      "          0       0.75      1.00      0.85      2236\n",
      "          1       0.00      0.00      0.00       764\n",
      "\n",
      "avg / total       0.56      0.75      0.64      3000\n",
      "\n"
     ]
    },
    {
     "name": "stderr",
     "output_type": "stream",
     "text": [
      "/usr/local/lib/python3.5/dist-packages/sklearn/metrics/classification.py:1135: UndefinedMetricWarning: Precision and F-score are ill-defined and being set to 0.0 in labels with no predicted samples.\n",
      "  'precision', 'predicted', average, warn_for)\n"
     ]
    }
   ],
   "source": [
    "print(classification_report(y_test, y_test_pred))"
   ]
  },
  {
   "cell_type": "code",
   "execution_count": 36,
   "metadata": {
    "collapsed": true
   },
   "outputs": [],
   "source": [
    "from keras.wrappers.scikit_learn import  KerasClassifier\n",
    "def build_logistic():\n",
    "    model = Sequential()\n",
    "    model.add(Dense(1,input_shape=(20,), activation='sigmoid')) # only difference is the activation finction\n",
    "    model.compile(Adam(lr=0.5), 'binary_crossentropy', metrics=['accuracy'])\n",
    "    \n",
    "    return model"
   ]
  },
  {
   "cell_type": "code",
   "execution_count": 37,
   "metadata": {
    "collapsed": true
   },
   "outputs": [],
   "source": [
    "model = KerasClassifier(build_fn=build_logistic, epochs=10)\n"
   ]
  },
  {
   "cell_type": "code",
   "execution_count": null,
   "metadata": {},
   "outputs": [],
   "source": [
    "'''accuracy scores for the different folded data'''\n",
    "\n",
    "cv = KFold(5, shuffle=True)\n",
    "scores = cross_val_score(model,X,y,cv=cv)"
   ]
  },
  {
   "cell_type": "code",
   "execution_count": 40,
   "metadata": {},
   "outputs": [
    {
     "data": {
      "text/plain": [
       "array([0.80633333, 0.787     , 0.75966667, 0.778     , 0.78926309])"
      ]
     },
     "execution_count": 40,
     "metadata": {},
     "output_type": "execute_result"
    }
   ],
   "source": [
    "scores"
   ]
  }
 ],
 "metadata": {
  "kernelspec": {
   "display_name": "Python 3",
   "language": "python",
   "name": "python3"
  },
  "language_info": {
   "codemirror_mode": {
    "name": "ipython",
    "version": 3
   },
   "file_extension": ".py",
   "mimetype": "text/x-python",
   "name": "python",
   "nbconvert_exporter": "python",
   "pygments_lexer": "ipython3",
   "version": "3.5.2"
  }
 },
 "nbformat": 4,
 "nbformat_minor": 2
}
